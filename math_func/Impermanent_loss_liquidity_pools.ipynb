{
 "cells": [
  {
   "cell_type": "markdown",
   "id": "199ea5ec",
   "metadata": {},
   "source": [
    "Impermanent loss is a critical concept for liquidity providers (LPs) in decentralized finance (DeFi) that can significantly impact their returns. It occurs when the price of the assets in a liquidity pool changes compared to when they were initially deposited. This loss is termed \"impermanent\" because it only materializes if the LP withdraws their assets from the pool when there is a price disparity. If the asset prices return to their original values, the impermanent loss is mitigated.\n",
    "\n",
    "How Impermanent Loss Happens\n",
    "Liquidity pools typically operate with pairs of tokens (e.g., ETH and USDC) in a certain ratio, usually 50/50. When users trade against the pool, the ratios of the tokens adjust to maintain a balance according to the pool's algorithm. This leads to the following scenarios:\n",
    "\n",
    "1. Price Increase: If the price of one of the tokens increases significantly, the pool will have more of the lesser-valued token and less of the higher-valued token. For instance, if ETH's price doubles, the pool will now contain more USDC and less ETH.\n",
    "\n",
    "2. Price Decrease: Conversely, if the price of one token decreases, the pool will have more of the devalued token and less of the other.\n",
    "\n",
    "In both cases, the value of the LP's share in the pool will be less than if they had simply held the tokens outside of the pool, leading to impermanent loss.\n",
    "\n",
    "\n",
    "Following code helps quantification of impermanent loss with an example. "
   ]
  },
  {
   "cell_type": "code",
   "execution_count": 10,
   "id": "a18f2652",
   "metadata": {},
   "outputs": [
    {
     "name": "stdout",
     "output_type": "stream",
     "text": [
      "b =  18.181818181818187\n",
      "110\n",
      "181.8181818181818\n"
     ]
    }
   ],
   "source": [
    "x = 100 #token 1 volume\n",
    "y = 200 # token 2 volume\n",
    "L_square = x*y # liquidity \n",
    "Lp = 0.1 # Liquidity share of the LP\n",
    "\n",
    "a = 10 # trade happens where 10 units of token 1 is provided\n",
    "b = y- (L_square/(x+a)) # calculate the equivalent token 2 to be taken from the pool against a\n",
    "print('b = ',b) \n",
    "x2 = x + a # final volume of token 1\n",
    "y2 = y - b # final volume of token 2\n",
    "print(x2)\n",
    "print(y2)\n",
    "yp2 = 1 # updated price of token 2 (usually from historical data)\n",
    "xp2 = y2/x2*yp2 # updated price of token 1 "
   ]
  },
  {
   "cell_type": "code",
   "execution_count": 14,
   "id": "1b37db0f",
   "metadata": {},
   "outputs": [
    {
     "name": "stdout",
     "output_type": "stream",
     "text": [
      "Impermanent loss 0.16528925619834212\n",
      "\n"
     ]
    }
   ],
   "source": [
    "LV1 = Lp*x*xp2 + Lp*y*yp2 # Liquidity value if it was not invested in the pool \n",
    "LV2 = Lp*x2*xp2 + Lp*y2*yp2 # liquidity value in the pool\n",
    "print('Impermanent loss', LV1-LV2)"
   ]
  },
  {
   "cell_type": "markdown",
   "id": "b80faa7f",
   "metadata": {},
   "source": [
    "# "
   ]
  }
 ],
 "metadata": {
  "kernelspec": {
   "display_name": "Python 3 (ipykernel)",
   "language": "python",
   "name": "python3"
  },
  "language_info": {
   "codemirror_mode": {
    "name": "ipython",
    "version": 3
   },
   "file_extension": ".py",
   "mimetype": "text/x-python",
   "name": "python",
   "nbconvert_exporter": "python",
   "pygments_lexer": "ipython3",
   "version": "3.11.7"
  }
 },
 "nbformat": 4,
 "nbformat_minor": 5
}
