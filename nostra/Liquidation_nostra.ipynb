{
 "cells": [
  {
   "cell_type": "code",
   "execution_count": 1,
   "id": "3f0b3227",
   "metadata": {},
   "outputs": [],
   "source": [
    "#https://github.com/software-mansion/starknet.py"
   ]
  },
  {
   "cell_type": "code",
   "execution_count": null,
   "id": "8d6c0d2d",
   "metadata": {},
   "outputs": [],
   "source": [
    "#!pip install starknet.py"
   ]
  },
  {
   "cell_type": "code",
   "execution_count": 3,
   "id": "e926bde4",
   "metadata": {},
   "outputs": [],
   "source": [
    "import time\n",
    "from starknet_py.contract import Contract\n",
    "# import sqlite3\n",
    "import json\n",
    "from starknet_py.net.full_node_client import FullNodeClient\n",
    "from starknet_py.net.account.account import Account\n",
    "from starknet_py.net.models.chains import StarknetChainId\n",
    "from starknet_py.net.signer.stark_curve_signer import KeyPair"
   ]
  },
  {
   "cell_type": "code",
   "execution_count": 4,
   "id": "76918e48",
   "metadata": {},
   "outputs": [
    {
     "name": "stderr",
     "output_type": "stream",
     "text": [
      "IOPub data rate exceeded.\n",
      "The notebook server will temporarily stop sending output\n",
      "to the client in order to avoid crashing it.\n",
      "To change this limit, set the config variable\n",
      "`--NotebookApp.iopub_data_rate_limit`.\n",
      "\n",
      "Current values:\n",
      "NotebookApp.iopub_data_rate_limit=1000000.0 (bytes/sec)\n",
      "NotebookApp.rate_limit_window=3.0 (secs)\n",
      "\n"
     ]
    },
    {
     "name": "stdout",
     "output_type": "stream",
     "text": [
      "burn 23065.83180022274\n"
     ]
    }
   ],
   "source": [
    "# ABI of the Nostra contract\n",
    "with open('nostra_contract_abi.json') as f:\n",
    "    abi = json.load(f)\n",
    "\n",
    "contract_abi = abi[\"contract_abi\"]\n",
    "type(contract_abi)\n",
    "\n",
    "# Address of the Nostra contract\n",
    "contract_address = \"0x057146f6409deb4c9fa12866915dd952aa07c1eb2752e451d7f3b042086bdeb8\"\n",
    "\n",
    "# Creates an instance of account which is already deployed\n",
    "# Account using transaction version=1 (has __validate__ function)\n",
    "client = FullNodeClient(node_url=\"https://starknet-mainnet.infura.io/v3/9c1398098092415980ad945d193fe32d\")\n",
    "\n",
    "account = Account(\n",
    "    client=client,\n",
    "    address=\"0x4321\",\n",
    "    key_pair=KeyPair(private_key=654, public_key=321),\n",
    "    chain=StarknetChainId.SEPOLIA,\n",
    ")\n",
    "\n",
    "events_response = await client.get_events(\n",
    "    address=contract_address,\n",
    "    keys=[['0x34e55c1cd55f1338241b50d352f0e91c7e4ffad0e4271d64eb347589ebdfd16']], # for mint event\n",
    "    from_block_number=647121,\n",
    "    to_block_number=\"latest\",\n",
    "    follow_continuation_token=True,\n",
    "    chunk_size=47,\n",
    ")\n",
    "\n",
    "print(events_response)\n",
    "\n",
    "\n",
    "total_amount_mint = 0\n",
    "for i in range(0,len(events_response.events)):\n",
    "    amount = events_response.events[i].data[0]\n",
    "    total_amount_mint += amount\n",
    "#     print(i)\n",
    "#     print(total_amount/10**18)\n",
    "\n",
    "print(\"mint\",total_amount_mint/10**18)\n",
    "    \n",
    "events_response = await client.get_events(\n",
    "    address=contract_address,\n",
    "    keys=[['0x243e1de00e8a6bc1dfa3e950e6ade24c52e4a25de4dee7fb5affe918ad1e744']], # for burn event\n",
    "    from_block_number=647121,\n",
    "    to_block_number=\"latest\",\n",
    "    follow_continuation_token=True,\n",
    "    chunk_size=47,\n",
    ")\n",
    "\n",
    "\n",
    "total_amount_burn = 0\n",
    "for i in range(0,len(events_response.events)):\n",
    "    amount = events_response.events[i].data[0]\n",
    "    total_amount_burn += amount\n",
    "#     print(i)\n",
    "#     print(total_amount/10**18)\n",
    "\n",
    "print('burn',total_amount_burn/10**18)"
   ]
  },
  {
   "cell_type": "code",
   "execution_count": 5,
   "id": "940de97e",
   "metadata": {},
   "outputs": [
    {
     "ename": "NameError",
     "evalue": "name 'sqlite3' is not defined",
     "output_type": "error",
     "traceback": [
      "\u001b[1;31m---------------------------------------------------------------------------\u001b[0m",
      "\u001b[1;31mNameError\u001b[0m                                 Traceback (most recent call last)",
      "Cell \u001b[1;32mIn[5], line 2\u001b[0m\n\u001b[0;32m      1\u001b[0m \u001b[38;5;66;03m# Connect to the SQLite database (or create it)\u001b[39;00m\n\u001b[1;32m----> 2\u001b[0m conn \u001b[38;5;241m=\u001b[39m sqlite3\u001b[38;5;241m.\u001b[39mconnect(\u001b[38;5;124m'\u001b[39m\u001b[38;5;124mmint_events.db\u001b[39m\u001b[38;5;124m'\u001b[39m)\n\u001b[0;32m      3\u001b[0m c \u001b[38;5;241m=\u001b[39m conn\u001b[38;5;241m.\u001b[39mcursor()\n\u001b[0;32m      5\u001b[0m \u001b[38;5;66;03m# Create table for storing mint events\u001b[39;00m\n",
      "\u001b[1;31mNameError\u001b[0m: name 'sqlite3' is not defined"
     ]
    }
   ],
   "source": [
    "# Connect to the SQLite database (or create it)\n",
    "conn = sqlite3.connect('mint_events.db')\n",
    "c = conn.cursor()\n",
    "\n",
    "# Create table for storing mint events\n",
    "c.execute('''CREATE TABLE IF NOT EXISTS mints\n",
    "             (tx_hash TEXT PRIMARY KEY, \n",
    "              block_number INTEGER, \n",
    "              minter TEXT, \n",
    "              amount INTEGER, \n",
    "              timestamp DATETIME DEFAULT CURRENT_TIMESTAMP)''')\n",
    "conn.commit()\n",
    "\n",
    "# Define the event filter\n",
    "event_filter = contract.events.Mint.createFilter(fromBlock='latest')\n",
    "\n",
    "# Function to handle new events\n",
    "def handle_event(event):\n",
    "    tx_hash = event['transactionHash'].hex()\n",
    "    block_number = event['blockNumber']\n",
    "    minter = event['args']['minter']\n",
    "    amount = event['args']['amount']\n",
    "    \n",
    "    # Insert event into the database\n",
    "    c.execute(\"INSERT OR IGNORE INTO mints (tx_hash, block_number, minter, amount) VALUES (?, ?, ?, ?)\",\n",
    "              (tx_hash, block_number, minter, amount))\n",
    "    conn.commit()\n",
    "\n",
    "# Polling for new events\n",
    "while True:\n",
    "    for event in event_filter.get_new_entries():\n",
    "        handle_event(event)\n",
    "\n",
    "    # Sleep for a bit before polling again\n",
    "    time.sleep(10)"
   ]
  },
  {
   "cell_type": "code",
   "execution_count": null,
   "id": "b8359ad7",
   "metadata": {},
   "outputs": [],
   "source": []
  }
 ],
 "metadata": {
  "kernelspec": {
   "display_name": "Python 3 (ipykernel)",
   "language": "python",
   "name": "python3"
  },
  "language_info": {
   "codemirror_mode": {
    "name": "ipython",
    "version": 3
   },
   "file_extension": ".py",
   "mimetype": "text/x-python",
   "name": "python",
   "nbconvert_exporter": "python",
   "pygments_lexer": "ipython3",
   "version": "3.11.7"
  }
 },
 "nbformat": 4,
 "nbformat_minor": 5
}
